{
 "cells": [
  {
   "attachments": {},
   "cell_type": "markdown",
   "metadata": {},
   "source": [
    "# HAVE A LOOK AT REAL DATASETS"
   ]
  },
  {
   "attachments": {},
   "cell_type": "markdown",
   "metadata": {},
   "source": [
    "In this tutorial, we will have a look at PyTorch Geometric datasets and learn ways to visualize it. Let's start with installing dependencies"
   ]
  },
  {
   "cell_type": "code",
   "execution_count": null,
   "metadata": {},
   "outputs": [],
   "source": [
    "%pip install torch # if you have nvidia cuda installed, you can also install pytorch with gpu support \n",
    "%pip install torch_geometric\n",
    "%pip install networkx y_files_jupyter_graphs matplotlib seaborn numpy"
   ]
  },
  {
   "cell_type": "code",
   "execution_count": null,
   "metadata": {},
   "outputs": [],
   "source": [
    "from torch_geometric.datasets import Planetoid, WebKB, Coauthor, Amazon, WikipediaNetwork, Actor\n",
    "from torch_geometric.utils import to_networkx\n",
    "\n",
    "import networkx as nx\n",
    "from yfiles_jupyter_graphs import GraphWidget"
   ]
  },
  {
   "attachments": {},
   "cell_type": "markdown",
   "metadata": {},
   "source": [
    "We will use Chameleon graph from [WikipediaNetwork](https://pytorch-geometric.readthedocs.io/en/latest/generated/torch_geometric.datasets.WikipediaNetwork.html#torch_geometric.datasets.WikipediaNetwork) dataset. If you want to use other datasets, you can change the dataset name in the following cell."
   ]
  },
  {
   "attachments": {},
   "cell_type": "markdown",
   "metadata": {},
   "source": [
    "### Chameleon"
   ]
  },
  {
   "cell_type": "code",
   "execution_count": null,
   "metadata": {},
   "outputs": [],
   "source": [
    "# Download the dataset and load it\n",
    "chameleon = WikipediaNetwork(root='./', name='chameleon')\n",
    "chameleon = chameleon[0]\n",
    "chameleon_graph = to_networkx(chameleon, to_undirected=True)"
   ]
  },
  {
   "cell_type": "code",
   "execution_count": null,
   "metadata": {},
   "outputs": [],
   "source": [
    "# Visualize the graph with yFiles Jupyter. This may take a while\n",
    "w = GraphWidget()\n",
    "w.import_graph(chameleon_graph)\n",
    "w.show()"
   ]
  },
  {
   "attachments": {},
   "cell_type": "markdown",
   "metadata": {},
   "source": [
    "Here, yEd Jupyter plugin takes too much time to calculate the output, and though the picture has some depth, drawing is not fancy enough. So, we will use yEd desktop application. If you do not want to download the app, you can use the [website](https://www.yworks.com/yed-live/) but this is, again, slow. \n",
    "\n",
    "Before that, we need to save our graph in gml or graphml format. Either is fine, if you want to keep indices, use gml."
   ]
  },
  {
   "cell_type": "code",
   "execution_count": null,
   "metadata": {},
   "outputs": [],
   "source": [
    "# Save the graph\n",
    "nx.write_gml(chameleon_graph,\"chameleon.gml\")\n",
    "# nx.write_graphml(chameleon_graph,\"chameleon.graphml\")"
   ]
  },
  {
   "attachments": {},
   "cell_type": "markdown",
   "metadata": {},
   "source": [
    "## yEd Desktop Application"
   ]
  },
  {
   "attachments": {},
   "cell_type": "markdown",
   "metadata": {},
   "source": [
    "Download the application from the [website](https://www.yworks.com/yed-live/).\n"
   ]
  },
  {
   "attachments": {},
   "cell_type": "markdown",
   "metadata": {},
   "source": [
    "Open the application and click on Open File. Select the file you want to open.\n",
    "![image](import.png)"
   ]
  },
  {
   "attachments": {},
   "cell_type": "markdown",
   "metadata": {},
   "source": [
    "After import is done, go to \"Layout -> Tree -> Balloon\" and click on \"Apply\". This will give us a nice layout."
   ]
  },
  {
   "attachments": {},
   "cell_type": "markdown",
   "metadata": {},
   "source": [
    "![image](baloon.png)"
   ]
  },
  {
   "attachments": {},
   "cell_type": "markdown",
   "metadata": {},
   "source": [
    "Freely change the parameters to get a better layout. Below are the parameters we used."
   ]
  },
  {
   "attachments": {},
   "cell_type": "markdown",
   "metadata": {},
   "source": [
    "![image](./baloon2.png)"
   ]
  },
  {
   "attachments": {},
   "cell_type": "markdown",
   "metadata": {},
   "source": [
    "After the layout is calculated, you will se an output like this:"
   ]
  },
  {
   "attachments": {},
   "cell_type": "markdown",
   "metadata": {},
   "source": [
    "![image](./baloon3.png)"
   ]
  },
  {
   "attachments": {},
   "cell_type": "markdown",
   "metadata": {},
   "source": [
    "To change color of the edges, click on one edge, press Ctrl+A to select all edges, and press F6 on your keyboard. This will open a window like below where you can change the color of the edges."
   ]
  },
  {
   "attachments": {},
   "cell_type": "markdown",
   "metadata": {},
   "source": [
    "![image](./baloon4.png)"
   ]
  },
  {
   "attachments": {},
   "cell_type": "markdown",
   "metadata": {},
   "source": [
    "To change the color of the nodes, zoom in a little to see nodes clearly, click on one node, press Ctrl+A to select all nodes, and press F6 on your keyboard. This will open a window like below where you can change the color of the nodes."
   ]
  },
  {
   "attachments": {},
   "cell_type": "markdown",
   "metadata": {},
   "source": [
    "![image](./baloon5.png)"
   ]
  },
  {
   "attachments": {},
   "cell_type": "markdown",
   "metadata": {},
   "source": [
    "You can also change the shape as you wish, and adjust the size of the nodes. We used 60x60 nodes. However, increasing the size will also increase the file size you will save."
   ]
  },
  {
   "attachments": {},
   "cell_type": "markdown",
   "metadata": {},
   "source": [
    "![image](./baloon6.png)"
   ]
  },
  {
   "attachments": {},
   "cell_type": "markdown",
   "metadata": {},
   "source": [
    "Click on the button shown below to see the final output."
   ]
  },
  {
   "attachments": {},
   "cell_type": "markdown",
   "metadata": {},
   "source": [
    "![image](./baloon7.png)"
   ]
  },
  {
   "attachments": {},
   "cell_type": "markdown",
   "metadata": {},
   "source": [
    "Press Ctrl + E to export an image file. You can use different formats. SVG usually provides the best quality with low file size."
   ]
  },
  {
   "attachments": {},
   "cell_type": "markdown",
   "metadata": {},
   "source": [
    "![image](./baloon8.png)"
   ]
  },
  {
   "attachments": {},
   "cell_type": "markdown",
   "metadata": {},
   "source": [
    "There you go. If you want to learn some more you can check the links below.\n",
    "\n",
    "- [A personal blogpost from someone](https://www.maartenlambrechts.com/2021/07/02/visualizing-a-genome-collection-with-cactustrees.html)\n",
    "- [Graphs & Networks Website](https://graphsandnetworks.com/) and their [Twitter](https://twitter.com/TheOrbifold)\n",
    "\n",
    "Two other tools to visualize graphs:\n",
    "- [Graph-tool](https://graph-tool.skewed.de/)\n",
    "- [Plotly](https://plotly.com/python/network-graphs/) (Simple, python based)"
   ]
  }
 ],
 "metadata": {
  "kernelspec": {
   "display_name": "base",
   "language": "python",
   "name": "python3"
  },
  "language_info": {
   "codemirror_mode": {
    "name": "ipython",
    "version": 3
   },
   "file_extension": ".py",
   "mimetype": "text/x-python",
   "name": "python",
   "nbconvert_exporter": "python",
   "pygments_lexer": "ipython3",
   "version": "3.10.10"
  },
  "orig_nbformat": 4
 },
 "nbformat": 4,
 "nbformat_minor": 2
}
